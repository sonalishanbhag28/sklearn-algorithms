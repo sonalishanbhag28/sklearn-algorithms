{
 "cells": [
  {
   "cell_type": "markdown",
   "id": "70f04305",
   "metadata": {},
   "source": [
    "### K-Means Clustering Algorithm"
   ]
  },
  {
   "cell_type": "code",
   "execution_count": 1,
   "id": "05eafb3a",
   "metadata": {},
   "outputs": [],
   "source": [
    "import numpy as np\n",
    "import pandas as pd\n",
    "import matplotlib.pyplot as plt\n",
    "import sklearn\n",
    "from sklearn.metrics import *\n",
    "from sklearn.preprocessing import *\n",
    "from sklearn.model_selection import *\n",
    "\n",
    "from sklearn.cluster import KMeans"
   ]
  },
  {
   "cell_type": "code",
   "execution_count": 2,
   "id": "a4817995",
   "metadata": {},
   "outputs": [
    {
     "data": {
      "text/html": [
       "<div>\n",
       "<style scoped>\n",
       "    .dataframe tbody tr th:only-of-type {\n",
       "        vertical-align: middle;\n",
       "    }\n",
       "\n",
       "    .dataframe tbody tr th {\n",
       "        vertical-align: top;\n",
       "    }\n",
       "\n",
       "    .dataframe thead th {\n",
       "        text-align: right;\n",
       "    }\n",
       "</style>\n",
       "<table border=\"1\" class=\"dataframe\">\n",
       "  <thead>\n",
       "    <tr style=\"text-align: right;\">\n",
       "      <th></th>\n",
       "      <th>sepal_length</th>\n",
       "      <th>sepal_width</th>\n",
       "      <th>petal_length</th>\n",
       "      <th>petal_width</th>\n",
       "      <th>species</th>\n",
       "    </tr>\n",
       "  </thead>\n",
       "  <tbody>\n",
       "    <tr>\n",
       "      <th>0</th>\n",
       "      <td>5.1</td>\n",
       "      <td>3.5</td>\n",
       "      <td>1.4</td>\n",
       "      <td>0.2</td>\n",
       "      <td>Iris-setosa</td>\n",
       "    </tr>\n",
       "    <tr>\n",
       "      <th>1</th>\n",
       "      <td>4.9</td>\n",
       "      <td>3.0</td>\n",
       "      <td>1.4</td>\n",
       "      <td>0.2</td>\n",
       "      <td>Iris-setosa</td>\n",
       "    </tr>\n",
       "    <tr>\n",
       "      <th>2</th>\n",
       "      <td>4.7</td>\n",
       "      <td>3.2</td>\n",
       "      <td>1.3</td>\n",
       "      <td>0.2</td>\n",
       "      <td>Iris-setosa</td>\n",
       "    </tr>\n",
       "    <tr>\n",
       "      <th>3</th>\n",
       "      <td>4.6</td>\n",
       "      <td>3.1</td>\n",
       "      <td>1.5</td>\n",
       "      <td>0.2</td>\n",
       "      <td>Iris-setosa</td>\n",
       "    </tr>\n",
       "    <tr>\n",
       "      <th>4</th>\n",
       "      <td>5.0</td>\n",
       "      <td>3.6</td>\n",
       "      <td>1.4</td>\n",
       "      <td>0.2</td>\n",
       "      <td>Iris-setosa</td>\n",
       "    </tr>\n",
       "  </tbody>\n",
       "</table>\n",
       "</div>"
      ],
      "text/plain": [
       "   sepal_length  sepal_width  petal_length  petal_width      species\n",
       "0           5.1          3.5           1.4          0.2  Iris-setosa\n",
       "1           4.9          3.0           1.4          0.2  Iris-setosa\n",
       "2           4.7          3.2           1.3          0.2  Iris-setosa\n",
       "3           4.6          3.1           1.5          0.2  Iris-setosa\n",
       "4           5.0          3.6           1.4          0.2  Iris-setosa"
      ]
     },
     "execution_count": 2,
     "metadata": {},
     "output_type": "execute_result"
    }
   ],
   "source": [
    "df = pd.read_csv(\"https://archive.ics.uci.edu/ml/machine-learning-databases/iris/iris.data\",\n",
    "                names=['sepal_length', 'sepal_width', 'petal_length', 'petal_width', 'species'])\n",
    "df.head()"
   ]
  },
  {
   "cell_type": "code",
   "execution_count": 3,
   "id": "23a4504a",
   "metadata": {},
   "outputs": [],
   "source": [
    "le = LabelEncoder()\n",
    "df['species'] = le.fit_transform(df['species'])"
   ]
  },
  {
   "cell_type": "code",
   "execution_count": 4,
   "id": "d4c06578",
   "metadata": {},
   "outputs": [],
   "source": [
    "x = df.iloc[:, 0:2]\n",
    "y = df.iloc[:, -1]"
   ]
  },
  {
   "cell_type": "code",
   "execution_count": 5,
   "id": "27b860a7",
   "metadata": {},
   "outputs": [
    {
     "data": {
      "text/plain": [
       "array([[0.22222222, 0.625     ],\n",
       "       [0.16666667, 0.41666667],\n",
       "       [0.11111111, 0.5       ],\n",
       "       [0.08333333, 0.45833333],\n",
       "       [0.19444444, 0.66666667],\n",
       "       [0.30555556, 0.79166667],\n",
       "       [0.08333333, 0.58333333],\n",
       "       [0.19444444, 0.58333333],\n",
       "       [0.02777778, 0.375     ],\n",
       "       [0.16666667, 0.45833333],\n",
       "       [0.30555556, 0.70833333],\n",
       "       [0.13888889, 0.58333333],\n",
       "       [0.13888889, 0.41666667],\n",
       "       [0.        , 0.41666667],\n",
       "       [0.41666667, 0.83333333],\n",
       "       [0.38888889, 1.        ],\n",
       "       [0.30555556, 0.79166667],\n",
       "       [0.22222222, 0.625     ],\n",
       "       [0.38888889, 0.75      ],\n",
       "       [0.22222222, 0.75      ],\n",
       "       [0.30555556, 0.58333333],\n",
       "       [0.22222222, 0.70833333],\n",
       "       [0.08333333, 0.66666667],\n",
       "       [0.22222222, 0.54166667],\n",
       "       [0.13888889, 0.58333333],\n",
       "       [0.19444444, 0.41666667],\n",
       "       [0.19444444, 0.58333333],\n",
       "       [0.25      , 0.625     ],\n",
       "       [0.25      , 0.58333333],\n",
       "       [0.11111111, 0.5       ],\n",
       "       [0.13888889, 0.45833333],\n",
       "       [0.30555556, 0.58333333],\n",
       "       [0.25      , 0.875     ],\n",
       "       [0.33333333, 0.91666667],\n",
       "       [0.16666667, 0.45833333],\n",
       "       [0.19444444, 0.5       ],\n",
       "       [0.33333333, 0.625     ],\n",
       "       [0.16666667, 0.45833333],\n",
       "       [0.02777778, 0.41666667],\n",
       "       [0.22222222, 0.58333333],\n",
       "       [0.19444444, 0.625     ],\n",
       "       [0.05555556, 0.125     ],\n",
       "       [0.02777778, 0.5       ],\n",
       "       [0.19444444, 0.625     ],\n",
       "       [0.22222222, 0.75      ],\n",
       "       [0.13888889, 0.41666667],\n",
       "       [0.22222222, 0.75      ],\n",
       "       [0.08333333, 0.5       ],\n",
       "       [0.27777778, 0.70833333],\n",
       "       [0.19444444, 0.54166667],\n",
       "       [0.75      , 0.5       ],\n",
       "       [0.58333333, 0.5       ],\n",
       "       [0.72222222, 0.45833333],\n",
       "       [0.33333333, 0.125     ],\n",
       "       [0.61111111, 0.33333333],\n",
       "       [0.38888889, 0.33333333],\n",
       "       [0.55555556, 0.54166667],\n",
       "       [0.16666667, 0.16666667],\n",
       "       [0.63888889, 0.375     ],\n",
       "       [0.25      , 0.29166667],\n",
       "       [0.19444444, 0.        ],\n",
       "       [0.44444444, 0.41666667],\n",
       "       [0.47222222, 0.08333333],\n",
       "       [0.5       , 0.375     ],\n",
       "       [0.36111111, 0.375     ],\n",
       "       [0.66666667, 0.45833333],\n",
       "       [0.36111111, 0.41666667],\n",
       "       [0.41666667, 0.29166667],\n",
       "       [0.52777778, 0.08333333],\n",
       "       [0.36111111, 0.20833333],\n",
       "       [0.44444444, 0.5       ],\n",
       "       [0.5       , 0.33333333],\n",
       "       [0.55555556, 0.20833333],\n",
       "       [0.5       , 0.33333333],\n",
       "       [0.58333333, 0.375     ],\n",
       "       [0.63888889, 0.41666667],\n",
       "       [0.69444444, 0.33333333],\n",
       "       [0.66666667, 0.41666667],\n",
       "       [0.47222222, 0.375     ],\n",
       "       [0.38888889, 0.25      ],\n",
       "       [0.33333333, 0.16666667],\n",
       "       [0.33333333, 0.16666667],\n",
       "       [0.41666667, 0.29166667],\n",
       "       [0.47222222, 0.29166667],\n",
       "       [0.30555556, 0.41666667],\n",
       "       [0.47222222, 0.58333333],\n",
       "       [0.66666667, 0.45833333],\n",
       "       [0.55555556, 0.125     ],\n",
       "       [0.36111111, 0.41666667],\n",
       "       [0.33333333, 0.20833333],\n",
       "       [0.33333333, 0.25      ],\n",
       "       [0.5       , 0.41666667],\n",
       "       [0.41666667, 0.25      ],\n",
       "       [0.19444444, 0.125     ],\n",
       "       [0.36111111, 0.29166667],\n",
       "       [0.38888889, 0.41666667],\n",
       "       [0.38888889, 0.375     ],\n",
       "       [0.52777778, 0.375     ],\n",
       "       [0.22222222, 0.20833333],\n",
       "       [0.38888889, 0.33333333],\n",
       "       [0.55555556, 0.54166667],\n",
       "       [0.41666667, 0.29166667],\n",
       "       [0.77777778, 0.41666667],\n",
       "       [0.55555556, 0.375     ],\n",
       "       [0.61111111, 0.41666667],\n",
       "       [0.91666667, 0.41666667],\n",
       "       [0.16666667, 0.20833333],\n",
       "       [0.83333333, 0.375     ],\n",
       "       [0.66666667, 0.20833333],\n",
       "       [0.80555556, 0.66666667],\n",
       "       [0.61111111, 0.5       ],\n",
       "       [0.58333333, 0.29166667],\n",
       "       [0.69444444, 0.41666667],\n",
       "       [0.38888889, 0.20833333],\n",
       "       [0.41666667, 0.33333333],\n",
       "       [0.58333333, 0.5       ],\n",
       "       [0.61111111, 0.41666667],\n",
       "       [0.94444444, 0.75      ],\n",
       "       [0.94444444, 0.25      ],\n",
       "       [0.47222222, 0.08333333],\n",
       "       [0.72222222, 0.5       ],\n",
       "       [0.36111111, 0.33333333],\n",
       "       [0.94444444, 0.33333333],\n",
       "       [0.55555556, 0.29166667],\n",
       "       [0.66666667, 0.54166667],\n",
       "       [0.80555556, 0.5       ],\n",
       "       [0.52777778, 0.33333333],\n",
       "       [0.5       , 0.41666667],\n",
       "       [0.58333333, 0.33333333],\n",
       "       [0.80555556, 0.41666667],\n",
       "       [0.86111111, 0.33333333],\n",
       "       [1.        , 0.75      ],\n",
       "       [0.58333333, 0.33333333],\n",
       "       [0.55555556, 0.33333333],\n",
       "       [0.5       , 0.25      ],\n",
       "       [0.94444444, 0.41666667],\n",
       "       [0.55555556, 0.58333333],\n",
       "       [0.58333333, 0.45833333],\n",
       "       [0.47222222, 0.41666667],\n",
       "       [0.72222222, 0.45833333],\n",
       "       [0.66666667, 0.45833333],\n",
       "       [0.72222222, 0.45833333],\n",
       "       [0.41666667, 0.29166667],\n",
       "       [0.69444444, 0.5       ],\n",
       "       [0.66666667, 0.54166667],\n",
       "       [0.66666667, 0.41666667],\n",
       "       [0.55555556, 0.20833333],\n",
       "       [0.61111111, 0.41666667],\n",
       "       [0.52777778, 0.58333333],\n",
       "       [0.44444444, 0.41666667]])"
      ]
     },
     "execution_count": 5,
     "metadata": {},
     "output_type": "execute_result"
    }
   ],
   "source": [
    "scaler = MinMaxScaler()\n",
    "scaler.fit_transform(x)"
   ]
  },
  {
   "cell_type": "code",
   "execution_count": 6,
   "id": "a1ecbdf1",
   "metadata": {},
   "outputs": [],
   "source": [
    "x_train, x_test, y_train, y_test = train_test_split(x, y, test_size=0.1, random_state= 42)"
   ]
  },
  {
   "cell_type": "code",
   "execution_count": 7,
   "id": "22f08db9",
   "metadata": {},
   "outputs": [
    {
     "data": {
      "text/plain": [
       "KMeans(n_clusters=3)"
      ]
     },
     "execution_count": 7,
     "metadata": {},
     "output_type": "execute_result"
    }
   ],
   "source": [
    "kmeans = KMeans(n_clusters=3)\n",
    "kmeans.fit(x_train)"
   ]
  },
  {
   "cell_type": "code",
   "execution_count": 8,
   "id": "aa3de05a",
   "metadata": {},
   "outputs": [
    {
     "data": {
      "text/plain": [
       "0.5767572546050133"
      ]
     },
     "execution_count": 8,
     "metadata": {},
     "output_type": "execute_result"
    }
   ],
   "source": [
    "train_pred = kmeans.predict(x_train)\n",
    "adjusted_rand_score(y_train, train_pred)"
   ]
  },
  {
   "cell_type": "code",
   "execution_count": 9,
   "id": "b6c33ccb",
   "metadata": {},
   "outputs": [],
   "source": [
    "centroids = kmeans.cluster_centers_\n",
    "xCentroid = centroids[:,0]\n",
    "yCentroid = centroids[:,1]"
   ]
  },
  {
   "cell_type": "code",
   "execution_count": 10,
   "id": "9f317526",
   "metadata": {},
   "outputs": [
    {
     "data": {
      "text/plain": [
       "<matplotlib.collections.PathCollection at 0x1db5bd32ac0>"
      ]
     },
     "execution_count": 10,
     "metadata": {},
     "output_type": "execute_result"
    },
    {
     "data": {
      "image/png": "[encoded data removed]",
      "text/plain": [
       "<Figure size 432x288 with 1 Axes>"
      ]
     },
     "metadata": {
      "needs_background": "light"
     },
     "output_type": "display_data"
    }
   ],
   "source": [
    "frame = pd.DataFrame(x_train)\n",
    "frame['cluster'] = train_pred\n",
    "\n",
    "plt.scatter(frame['sepal_length'], frame['sepal_width'], c=frame['cluster'])\n",
    "plt.scatter(xCentroid, yCentroid, c='red')"
   ]
  },
  {
   "cell_type": "code",
   "execution_count": 11,
   "id": "43244763",
   "metadata": {},
   "outputs": [
    {
     "data": {
      "text/plain": [
       "0.8202824133504493"
      ]
     },
     "execution_count": 11,
     "metadata": {},
     "output_type": "execute_result"
    }
   ],
   "source": [
    "test_pred = kmeans.predict(x_test)\n",
    "adjusted_rand_score(y_test, test_pred)"
   ]
  }
 ],
 "metadata": {
  "kernelspec": {
   "display_name": "Python 3 (ipykernel)",
   "language": "python",
   "name": "python3"
  },
  "language_info": {
   "codemirror_mode": {
    "name": "ipython",
    "version": 3
   },
   "file_extension": ".py",
   "mimetype": "text/x-python",
   "name": "python",
   "nbconvert_exporter": "python",
   "pygments_lexer": "ipython3",
   "version": "3.9.6"
  }
 },
 "nbformat": 4,
 "nbformat_minor": 5
}
